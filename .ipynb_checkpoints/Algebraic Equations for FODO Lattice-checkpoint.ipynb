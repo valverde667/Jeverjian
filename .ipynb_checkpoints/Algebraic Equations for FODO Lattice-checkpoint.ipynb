{
 "cells": [
  {
   "cell_type": "markdown",
   "metadata": {},
   "source": [
    "# Algebraic Expressions for FODO Lattice "
   ]
  },
  {
   "cell_type": "code",
   "execution_count": 29,
   "metadata": {},
   "outputs": [],
   "source": [
    "import numpy as np\n",
    "import sympy as sy\n",
    "sy.init_printing(use_unicode=True)"
   ]
  },
  {
   "cell_type": "markdown",
   "metadata": {},
   "source": [
    "## Variable Defintions"
   ]
  },
  {
   "cell_type": "markdown",
   "metadata": {},
   "source": [
    "- $f$ = focal length\n",
    "- $D$ = drift length\n",
    "- $L_p$ = lattice period (set to $2D$)\n",
    "- $\\delta_0$ = initial phase-angle\n"
   ]
  },
  {
   "cell_type": "markdown",
   "metadata": {},
   "source": [
    "## Sympy Algebra"
   ]
  },
  {
   "cell_type": "code",
   "execution_count": 30,
   "metadata": {},
   "outputs": [],
   "source": [
    "f, D, Lp, delta_0 = sy.symbols(\"f, D, L_p, delta_0\")"
   ]
  },
  {
   "cell_type": "code",
   "execution_count": 42,
   "metadata": {},
   "outputs": [],
   "source": [
    "Mo = sy.Matrix([[1, Lp/4],[0, 1]])\n",
    "Mf = sy.Matrix([[1, 0],[-1/f, 1]])\n",
    "Mdf = sy.Matrix([[1, 0],[1/f, 1]])"
   ]
  },
  {
   "cell_type": "code",
   "execution_count": 43,
   "metadata": {},
   "outputs": [],
   "source": [
    "M = sy.simplify(Mo*Mdf*Mo*Mo*Mf*Mo)"
   ]
  },
  {
   "cell_type": "code",
   "execution_count": 44,
   "metadata": {},
   "outputs": [
    {
     "data": {
      "image/png": "[encoded data removed]",
      "text/latex": [
       "$\\displaystyle \\left[\\begin{matrix}- \\frac{L_{p}^{2}}{8 f^{2}} - \\frac{L_{p}}{2 f} + 1 & - \\frac{L_{p}^{3}}{32 f^{2}} + L_{p}\\\\- \\frac{L_{p}}{2 f^{2}} & - \\frac{L_{p}^{2}}{8 f^{2}} + \\frac{L_{p}}{2 f} + 1\\end{matrix}\\right]$"
      ],
      "text/plain": [
       "⎡    2                    3        ⎤\n",
       "⎢  Lₚ      Lₚ           Lₚ         ⎥\n",
       "⎢- ──── - ─── + 1    - ───── + Lₚ  ⎥\n",
       "⎢     2   2⋅f              2       ⎥\n",
       "⎢  8⋅f                 32⋅f        ⎥\n",
       "⎢                                  ⎥\n",
       "⎢                      2           ⎥\n",
       "⎢      -Lₚ           Lₚ      Lₚ    ⎥\n",
       "⎢      ────        - ──── + ─── + 1⎥\n",
       "⎢         2             2   2⋅f    ⎥\n",
       "⎣      2⋅f           8⋅f           ⎦"
      ]
     },
     "execution_count": 44,
     "metadata": {},
     "output_type": "execute_result"
    }
   ],
   "source": [
    "M"
   ]
  },
  {
   "cell_type": "code",
   "execution_count": 45,
   "metadata": {},
   "outputs": [
    {
     "data": {
      "image/png": "[encoded data removed]",
      "text/latex": [
       "$\\displaystyle - \\frac{L_{p}^{2}}{8 f^{2}} + 1$"
      ],
      "text/plain": [
       "    2     \n",
       "  Lₚ      \n",
       "- ──── + 1\n",
       "     2    \n",
       "  8⋅f     "
      ]
     },
     "execution_count": 45,
     "metadata": {},
     "output_type": "execute_result"
    }
   ],
   "source": [
    "sy.trace(M)/2"
   ]
  },
  {
   "cell_type": "markdown",
   "metadata": {},
   "source": [
    "Therefore, using $L_p = 2D$\n",
    "\\begin{equation*}\n",
    "\\cos(\\delta_0) = 1 - \\frac{D^2}{2f^2}\n",
    "\\end{equation*}\n",
    "Or, \n",
    "\\begin{equation}\n",
    "\\boxed{\\frac{f}{D} = \\sqrt{\\frac{2}{1 - \\cos(\\delta_0)}}}\n",
    "\\end{equation}"
   ]
  },
  {
   "cell_type": "code",
   "execution_count": 46,
   "metadata": {},
   "outputs": [],
   "source": [
    "C, Cp, S, Sp = sy.symbols(\"C, C', S, S'\")\n",
    "Transport_Matrix = sy.Matrix([[C, S], [Cp, Sp]])"
   ]
  },
  {
   "cell_type": "code",
   "execution_count": 47,
   "metadata": {},
   "outputs": [
    {
     "data": {
      "image/png": "[encoded data removed]",
      "text/latex": [
       "$\\displaystyle \\left( \\left[\\begin{matrix}- \\frac{L_{p}^{2}}{8 f^{2}} - \\frac{L_{p}}{2 f} + 1 & - \\frac{L_{p}^{3}}{32 f^{2}} + L_{p}\\\\- \\frac{L_{p}}{2 f^{2}} & - \\frac{L_{p}^{2}}{8 f^{2}} + \\frac{L_{p}}{2 f} + 1\\end{matrix}\\right], \\  \\left[\\begin{matrix}C & S\\\\C' & S'\\end{matrix}\\right]\\right)$"
      ],
      "text/plain": [
       "⎛⎡    2                    3        ⎤          ⎞\n",
       "⎜⎢  Lₚ      Lₚ           Lₚ         ⎥          ⎟\n",
       "⎜⎢- ──── - ─── + 1    - ───── + Lₚ  ⎥          ⎟\n",
       "⎜⎢     2   2⋅f              2       ⎥          ⎟\n",
       "⎜⎢  8⋅f                 32⋅f        ⎥  ⎡C   S ⎤⎟\n",
       "⎜⎢                                  ⎥, ⎢      ⎥⎟\n",
       "⎜⎢                      2           ⎥  ⎣C'  S'⎦⎟\n",
       "⎜⎢      -Lₚ           Lₚ      Lₚ    ⎥          ⎟\n",
       "⎜⎢      ────        - ──── + ─── + 1⎥          ⎟\n",
       "⎜⎢         2             2   2⋅f    ⎥          ⎟\n",
       "⎝⎣      2⋅f           8⋅f           ⎦          ⎠"
      ]
     },
     "execution_count": 47,
     "metadata": {},
     "output_type": "execute_result"
    }
   ],
   "source": [
    "M, Transport_Matrix"
   ]
  },
  {
   "cell_type": "markdown",
   "metadata": {},
   "source": [
    "Comparing elements between the two matrices gives four equations:\n",
    "\n",
    "\\begin{align}\n",
    "\\text{C} & = 1 - \\frac{L_p}{2f} - \\frac{L_P^2}{8f^2} \\\\\n",
    "\\text{C'} & = -\\frac{L_p}{2f^2} \\\\\n",
    "\\text{S} & = L_p - \\frac{L_p^3}{32f^2} \\\\\n",
    "\\text{S'} & = 1 + \\frac{L_p}{2f} - \\frac{L_p^2}{8f^2}. \\\\\n",
    "\\end{align}"
   ]
  },
  {
   "cell_type": "markdown",
   "metadata": {},
   "source": [
    "Now the twiss parameters can be evaluated since: \n",
    "\\begin{align}\n",
    "w(s=s_i) & = \\sqrt{ \\frac{S(s_i+L_p | s_i)} {\\sin(\\delta_0)} } \\\\\n",
    "w'(s=s_i) & = \\frac{\\cos(\\delta_0) - C(s_i + L_p|s_i)}{\\sqrt{S(s_i + L_p|s_i)}}\n",
    "\\end{align}\n",
    "and \n",
    "\\begin{align}\n",
    "\\beta &= \\frac{1}{w^2} \\\\\n",
    "\\beta' &= -2\\alpha = 2ww' \\\\\n",
    "\\gamma &= \\frac{1 + \\alpha^2}{\\beta}.\n",
    "\\end{align}"
   ]
  },
  {
   "cell_type": "markdown",
   "metadata": {},
   "source": [
    "Plugging in expressions for w and w' gives \n",
    "\\begin{align}\n",
    "w &= \\sqrt{\\frac{2D - D^3/(4f^2)}{\\sin(\\delta_0)}} \\\\\n",
    "w' &= \\frac{D/f}{\\sqrt{ 2D - D^3/(4f^2)}}. \n",
    "\\end{align}"
   ]
  },
  {
   "cell_type": "markdown",
   "metadata": {},
   "source": [
    "Plugging in expressions and solving for $\\alpha$, $\\beta$, $\\gamma$ gives\n",
    "\\begin{align}\n",
    "\\alpha & = -\\frac{D/f}{\\sqrt{\\sin(\\delta_0)}} \\\\\n",
    "\\beta & = \\frac{\\left(2D - \\frac{D^3}{4f^2}\\right)}{\\sin(\\delta_0)} \\\\\n",
    "\\gamma & = \\frac{ \\sin(\\delta_0) + \\frac{D^2}{f^2}}{\\left(2D - \\frac{D^3}{4f^2}\\right)}.\n",
    "\\end{align}"
   ]
  },
  {
   "cell_type": "code",
   "execution_count": 37,
   "metadata": {},
   "outputs": [
    {
     "data": {
      "image/png": "[encoded data removed]",
      "text/latex": [
       "$\\displaystyle \\left[\\begin{matrix}1.375 & 3.875\\\\-0.125 & 0.375\\end{matrix}\\right]$"
      ],
      "text/plain": [
       "⎡1.375   3.875⎤\n",
       "⎢             ⎥\n",
       "⎣-0.125  0.375⎦"
      ]
     },
     "execution_count": 37,
     "metadata": {},
     "output_type": "execute_result"
    }
   ],
   "source": [
    "Mo = sy.Matrix([[1, 1],[0, 1]])\n",
    "Mf = sy.Matrix([[1, 0],[-1/4, 1]])\n",
    "Mdf = sy.Matrix([[1, 0],[1/4, 1]])\n",
    "M = sy.simplify(Mo*Mf*Mo*Mo*Mdf*Mo)\n",
    "M"
   ]
  },
  {
   "cell_type": "code",
   "execution_count": 38,
   "metadata": {},
   "outputs": [],
   "source": [
    "vec = sy.Matrix([[1],[2]])"
   ]
  },
  {
   "cell_type": "code",
   "execution_count": 39,
   "metadata": {},
   "outputs": [
    {
     "data": {
      "image/png": "[encoded data removed]",
      "text/latex": [
       "$\\displaystyle \\left[\\begin{matrix}1\\\\2\\end{matrix}\\right]$"
      ],
      "text/plain": [
       "⎡1⎤\n",
       "⎢ ⎥\n",
       "⎣2⎦"
      ]
     },
     "execution_count": 39,
     "metadata": {},
     "output_type": "execute_result"
    }
   ],
   "source": [
    "vec"
   ]
  },
  {
   "cell_type": "code",
   "execution_count": 40,
   "metadata": {},
   "outputs": [
    {
     "data": {
      "image/png": "[encoded data removed]",
      "text/latex": [
       "$\\displaystyle \\left[\\begin{matrix}9.125\\\\0.625\\end{matrix}\\right]$"
      ],
      "text/plain": [
       "⎡9.125⎤\n",
       "⎢     ⎥\n",
       "⎣0.625⎦"
      ]
     },
     "execution_count": 40,
     "metadata": {},
     "output_type": "execute_result"
    }
   ],
   "source": [
    "M*vec"
   ]
  },
  {
   "cell_type": "code",
   "execution_count": 13,
   "metadata": {},
   "outputs": [],
   "source": [
    "M0 = np.array( [[1.,1.],[0,1.]] )         # drift matrix\n",
    "MF = np.array( [[1.,0],[-1./4,1.]] )     # focus matrix\n",
    "MD = np.array( [[1.,0],[ 1./4,1.]] )     # defocus matrix\n",
    "M = M0 @ MF @ M0 @ M0 @ MD @ M0"
   ]
  },
  {
   "cell_type": "code",
   "execution_count": 14,
   "metadata": {},
   "outputs": [
    {
     "data": {
      "text/plain": [
       "array([[ 1.375,  3.875],\n",
       "       [-0.125,  0.375]])"
      ]
     },
     "execution_count": 14,
     "metadata": {},
     "output_type": "execute_result"
    }
   ],
   "source": [
    "M"
   ]
  },
  {
   "cell_type": "code",
   "execution_count": 15,
   "metadata": {},
   "outputs": [],
   "source": [
    "vec = np.array([[1],[2]])"
   ]
  },
  {
   "cell_type": "code",
   "execution_count": 16,
   "metadata": {},
   "outputs": [
    {
     "data": {
      "text/plain": [
       "array([[1],\n",
       "       [2]])"
      ]
     },
     "execution_count": 16,
     "metadata": {},
     "output_type": "execute_result"
    }
   ],
   "source": [
    "vec"
   ]
  },
  {
   "cell_type": "code",
   "execution_count": 17,
   "metadata": {},
   "outputs": [],
   "source": [
    "test = M@vec"
   ]
  },
  {
   "cell_type": "code",
   "execution_count": 18,
   "metadata": {},
   "outputs": [
    {
     "data": {
      "text/plain": [
       "array([9.125])"
      ]
     },
     "execution_count": 18,
     "metadata": {},
     "output_type": "execute_result"
    }
   ],
   "source": [
    "test[0]"
   ]
  },
  {
   "cell_type": "code",
   "execution_count": 19,
   "metadata": {},
   "outputs": [
    {
     "data": {
      "image/png": "[encoded data removed]",
      "text/latex": [
       "$\\displaystyle 9.125$"
      ],
      "text/plain": [
       "9.125"
      ]
     },
     "execution_count": 19,
     "metadata": {},
     "output_type": "execute_result"
    }
   ],
   "source": [
    "test[0][0]"
   ]
  },
  {
   "cell_type": "code",
   "execution_count": 20,
   "metadata": {},
   "outputs": [
    {
     "data": {
      "image/png": "[encoded data removed]",
      "text/latex": [
       "$\\displaystyle 0.625$"
      ],
      "text/plain": [
       "0.625"
      ]
     },
     "execution_count": 20,
     "metadata": {},
     "output_type": "execute_result"
    }
   ],
   "source": [
    "test[1][0]"
   ]
  },
  {
   "cell_type": "code",
   "execution_count": null,
   "metadata": {},
   "outputs": [],
   "source": []
  }
 ],
 "metadata": {
  "kernelspec": {
   "display_name": "Python 3",
   "language": "python",
   "name": "python3"
  },
  "language_info": {
   "codemirror_mode": {
    "name": "ipython",
    "version": 3
   },
   "file_extension": ".py",
   "mimetype": "text/x-python",
   "name": "python",
   "nbconvert_exporter": "python",
   "pygments_lexer": "ipython3",
   "version": "3.7.3"
  }
 },
 "nbformat": 4,
 "nbformat_minor": 2
}
