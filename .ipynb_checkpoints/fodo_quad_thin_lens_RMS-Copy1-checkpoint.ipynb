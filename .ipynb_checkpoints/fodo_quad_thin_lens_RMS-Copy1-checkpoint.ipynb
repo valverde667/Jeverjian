{
 "cells": [
  {
   "cell_type": "markdown",
   "metadata": {},
   "source": [
    "# Modeling Quadrupole Transport of Charged Particle Beams with Python\n",
    "Created by Emily Jevarjian, Nick Valverde, and Steve Lund \n",
    "\n",
    "\n",
    "The purpose of this code is model the phase space evolution of a beam of charged particles transported in a magnetic FODO quadrupole focusing lattice. The focusing is alternating gradient. This program describes the quadrupoles simply as \"thin lens\" kicks and uses linear transfer matrices to model the charged particle beam's transport. Approximate, corresponding thick (physical) quadrupole parameters are output for laboratory implementation.\n",
    "\n",
    "User inputs are specified to set desired charged particle beam and applied focusing lattice parameters. Options can be set to model a single particle or a bundle of particles. Output plots generated help visualize the the phase-space evolution of the beam.  Plots include x and x' orbit bundles and x-x' phase-space projections made each lattice period at the same location.     \n",
    "\n",
    "The program employs Python packages numpy and math to make calculations and uses matplotlib graphics to plot the phase space evolution of the beam."
   ]
  },
  {
   "cell_type": "markdown",
   "metadata": {},
   "source": [
    "# Load Python Packages "
   ]
  },
  {
   "cell_type": "code",
   "execution_count": 1,
   "metadata": {},
   "outputs": [],
   "source": [
    "import numpy as np\n",
    "from numpy import cos, sin, pi\n",
    "import math\n",
    "import matplotlib.pyplot as plt\n",
    "%matplotlib inline"
   ]
  },
  {
   "cell_type": "markdown",
   "metadata": {},
   "source": [
    "# Define Constants"
   ]
  },
  {
   "cell_type": "code",
   "execution_count": 2,
   "metadata": {},
   "outputs": [],
   "source": [
    "# Constants\n",
    "\n",
    "c_light  = 2.99792458e8    # speed of light [m/s]\n",
    "e_charge = 1.60217662e-19  # electronic charge [C]\n",
    "amu      = 1.660538921e-27 # atomic mass unit [kg]\n",
    "jperev   = e_charge        # conversion factor Joules/eV\n",
    "mm       = 1.e-3           # conversion factor mm to meters \n",
    "mrad     = 1.e-3           # conversion factor mrad to rad "
   ]
  },
  {
   "cell_type": "markdown",
   "metadata": {},
   "source": [
    "# Charged Particle Inputs\n",
    "* Q:  particle charge state\n",
    "    * Q = -1 for an electron\n",
    "    * Q = a positive integer for an ion\n",
    "* M:  particle mass in atomic mass units [amu]\n",
    "* E:  axial kinetic energy [eV]"
   ]
  },
  {
   "cell_type": "code",
   "execution_count": 3,
   "metadata": {},
   "outputs": [
    {
     "name": "stdout",
     "output_type": "stream",
     "text": [
      "Charged Particle Properties:\n",
      "\n",
      "Charge, q = 1.60217662e-19 C\n",
      "Mass,   m = 1.672621782642489e-27 kg\n",
      "\n",
      "Energy, E = 100000.0 eV\n",
      "          = 1.60217662e-14 J\n",
      "\n",
      "gamma_b = 1.000106578900535\n",
      "beta_b  = 0.014598757780230454\n",
      "\n",
      "p_z      = 7.321172476061896e-21 kg*m/s\n",
      "rigidity = 0.04569516484432219 Tesla*m\n"
     ]
    }
   ],
   "source": [
    "# Charged particle inputs\n",
    "Q  = 1           # particle charge state [1]\n",
    "M  = 1.00727647  # particle mass [amu]\n",
    "E  = 100.e3      #axial kinetic energy [eV]\n",
    "\n",
    "# Derived parameters \n",
    "q = Q*e_charge \n",
    "m = M*amu \n",
    "\n",
    "energy   = jperev*E                    # Kinetic energy [J]\n",
    "gamma_b  = 1. + energy/(m*c_light**2)  # relativistic axial gamma [1]\n",
    "beta_b   = np.sqrt(1.-1./gamma_b**2)   # relativistic axial beta v_z/c [1]\n",
    "p_z      = m*gamma_b*beta_b*c_light    # particle axial momentum [kg*m/s]\n",
    "rigidity = p_z/q                       # particle rigidity [T*m]\n",
    "\n",
    "print(\"Charged Particle Properties:\")\n",
    "print(\"\")\n",
    "print(\"Charge, q = {} C\"  .format(q))\n",
    "print(\"Mass,   m = {} kg\" .format(m))\n",
    "print(\"\")\n",
    "print(\"Energy, E = {} eV\" .format(E))\n",
    "print(\"          = {} J\"  .format(energy))\n",
    "print(\"\")\n",
    "print(\"gamma_b = {}\" .format(gamma_b))\n",
    "print(\"beta_b  = {}\" .format(beta_b))\n",
    "print(\"\")\n",
    "print(\"p_z      = {} kg*m/s\" .format(p_z))\n",
    "print(\"rigidity = {} Tesla*m\" .format(rigidity))"
   ]
  },
  {
   "cell_type": "markdown",
   "metadata": {},
   "source": [
    "## FODO Lattice Inputs"
   ]
  },
  {
   "cell_type": "code",
   "execution_count": 4,
   "metadata": {},
   "outputs": [
    {
     "name": "stdout",
     "output_type": "stream",
     "text": [
      "Lattice Properties:\n",
      "\n",
      "Lattice Period, L_p = 4.0 m\n",
      "Phase Advance, sigma_0 = 1.0471975511965976 rad/Period\n",
      "                       = 59.99999999999999 deg/Period\n",
      "\n",
      "Drift Length, d = 2.0 m\n",
      "Focal Length, f = 2.0 m\n",
      "\n",
      "--- Thick Lens Quadrupole Equivalent\n",
      "Quad Focus Strength, kappa = 1.0 m^(-2)\n",
      "Quad Gradient,       G     = 0.04569516484432219 Tesla/m\n"
     ]
    }
   ],
   "source": [
    "#--Specify lattice \n",
    "sigma_0 = pi/3 #phase angle. This angle gives a f = 4 to match single particle thin lens code.\n",
    "d = 2.         #[m] full drift length\n",
    "Lp = 2*d       #[m]  lattice length\n",
    "\n",
    "#--Calculate focal length f from phase advance \n",
    "f = (d/2)*np.sqrt(2/(1-cos(sigma_0))) #focal length\n",
    "\n",
    "ell     = 0.5 # Physical (thick) quadrupole axial length [m]  (information only for lab lattice output)\n",
    "\n",
    "kappa = 1./(f*ell)           # Physical (thick) quadrupole kappa [1/m^2]\n",
    "G     = rigidity/(f*ell)     # Physical (thick) quadrupole field gradient [Tesla/m]\n",
    "\n",
    "print(\"Lattice Properties:\")\n",
    "print(\"\")\n",
    "print(\"Lattice Period, L_p = {} m\" .format(Lp))\n",
    "print(\"Phase Advance, sigma_0 = {} rad/Period\" .format(sigma_0))\n",
    "print(\"                       = {} deg/Period\" .format((180./pi)*sigma_0))\n",
    "print(\"\")\n",
    "print(\"Drift Length, d = {} m\" .format(d))\n",
    "print(\"Focal Length, f = {} m\" .format(f))\n",
    "print(\"\")\n",
    "print(\"--- Thick Lens Quadrupole Equivalent\")\n",
    "print(\"Quad Focus Strength, kappa = {} m^(-2)\" .format(kappa))\n",
    "print(\"Quad Gradient,       G     = {} Tesla/m\" .format(G))"
   ]
  },
  {
   "cell_type": "markdown",
   "metadata": {},
   "source": [
    "## Specify Initial Distribution of Particles"
   ]
  },
  {
   "cell_type": "code",
   "execution_count": 5,
   "metadata": {},
   "outputs": [],
   "source": [
    "Np        = 5         # Number of particles \n",
    "emittance = 10.*mm*mrad # Courant Snyder Ellipse Size Parameter\n",
    "\n",
    "beta  = 1. # betatron ellipse coefficient beta [m] \n",
    "alpha = pi/4. # betatron ellipse coefficient alpha [rad]\n",
    "\n",
    "fill  = False # False = Particles on perimeter ellipse, True = Particles uniformly fill ellipse \n",
    "match = True # False = Use beta, alpha above to set, True = Reset beta, alpha as matched beam ellipse values\n",
    "\n",
    "\n",
    "# Derived distrubtion parameters \n",
    "gamma = (1+alpha**2)/beta # betatron ellipse coefficient gamma [1/m]"
   ]
  },
  {
   "cell_type": "markdown",
   "metadata": {},
   "source": [
    "## Specify advance length of simulation"
   ]
  },
  {
   "cell_type": "code",
   "execution_count": 6,
   "metadata": {},
   "outputs": [],
   "source": [
    "n_advance = 1  # Number of lattice periods to advance "
   ]
  },
  {
   "cell_type": "markdown",
   "metadata": {},
   "source": [
    "## Functions to create matched distriubtion of particles"
   ]
  },
  {
   "cell_type": "code",
   "execution_count": 7,
   "metadata": {},
   "outputs": [],
   "source": [
    "#--Functions to calcluate Twiss parameters with inputs drift (d), focal length (f), and initial phase-angle (sigma_0).\n",
    "def alpha_match(d,f, sigma_0):\n",
    "    numerator = -d/f\n",
    "    denominator = np.sqrt(sin(sigma_0))\n",
    "    return numerator/denominator\n",
    "\n",
    "def beta_match(d, f, sigma_0):\n",
    "    numerator = 2*d - d**3/(4*f**2)\n",
    "    denominator = sin(sigma_0)\n",
    "    return numerator/denominator\n",
    "\n",
    "def gamma_match(d, f, sigma_0):\n",
    "    numerator = sin(sigma_0) + d**2/f**2\n",
    "    denominator = 2*d - d**3/(4*f**2)\n",
    "    return numerator/denominator\n",
    "\n",
    "\n",
    "def create_particles (d, f, sigma_0, gamma, alpha, beta, emittance, Np, fill, match):\n",
    "    '''\n",
    "    Create distribution of initial x,x' coordinates for n particles in specified Courant-Snyder \n",
    "    phase-space ellipse given by \n",
    "       gamma*x^2 + 2*alpha*x*x' + beta*(x')^2 = emittance \n",
    "    Filled = False => distribute n particles around perimeter \n",
    "           = True  => uniformly fill n particles within ellipse \n",
    "    Note: This routine has no knowledge of whether the ellipse parameters gamma, alpha, beta, emit \n",
    "    correspond to a matched beam or not. \n",
    "    '''\n",
    "    \n",
    "    #--Initialze x and x' arrays to be populated\n",
    "    x = []\n",
    "    xprime = []\n",
    "    count = 0 #Counter for while loops\n",
    "\n",
    "    #--Check Match condition: reset gamma, alpha, beta if matched beam desired, otherwise use input values \n",
    "    if match == True:\n",
    "        alpha, beta, gamma = alpha_match(d, f, sigma_0), beta_match(d, f, sigma_0), gamma_match(d, f, sigma_0)\n",
    "        \n",
    "\n",
    "        #--Calculate w\n",
    "        numerator = np.sqrt(2.*d - d**3/(4.*f**2))\n",
    "        #denom = np.sqrt(sin(sigma_0))\n",
    "        #w = numerator/denom\n",
    "        w = np.sqrt(beta)\n",
    "        #--Calculate w'\n",
    "        #numerator = d/f\n",
    "        #denom = np.sqrt(2.*d - d**3/(4.*f**2))\n",
    "        #wp = numerator/denom\n",
    "        wp = -alpha/w\n",
    "\n",
    "        #--Output twiss parameters\n",
    "        print(\"Courant-Snyder Ellipse Parameters of Load:\")\n",
    "        print(\"\")\n",
    "        print(\"emittance = %f mm-mrad\" %(emittance/(mm*mrad))) \n",
    "        print(\"\")\n",
    "        print(\"alpha = %f\" %alpha)\n",
    "        print(\"beta  = %f m\" %beta)\n",
    "        print(\"gamma = %f m^-1\" %gamma)\n",
    "        print(\"\")\n",
    "        print(\"w  = %f m^(1/2)\" %w)\n",
    "        print(\"w' = %f m^(-1/2)\"%wp)\n",
    "        \n",
    "    else:\n",
    "        w = np.sqrt(beta)\n",
    "        wp = -alpha/w\n",
    "        \n",
    "        #--Output twiss parameters\n",
    "\n",
    "        print(\"Courant-Snyder Ellipse Parameters of Load:\")\n",
    "        print(\"\")\n",
    "        print(\"emittance = %f mm-mrad\" %(emittance/(mm*mrad))) \n",
    "        print(\"\")\n",
    "        print(\"alpha = %f\" %alpha)\n",
    "        print(\"beta  = %f m\" %beta)\n",
    "        print(\"gamma = %f m^-1\" %gamma)\n",
    "        print(\"\")\n",
    "        print(\"w  = %f m^(1/2)\" %w)\n",
    "        print(\"w' = %f m^(-1/2)\"%wp)\n",
    "        \n",
    "           \n",
    "    if fill == False: # Perimeter load\n",
    "        while count < Np:\n",
    "            theta = 2*pi*count/Np\n",
    "            xpos = np.sqrt(emittance)*w*cos(theta)\n",
    "            xprime_pos = np.sqrt(emittance)*sin(theta)/w + np.sqrt(emittance)*wp*cos(theta)\n",
    "\n",
    "            x.append(xpos)\n",
    "            xprime.append(xprime_pos)\n",
    "            count += 1\n",
    "\n",
    "    else: # Uniform load\n",
    "        while count < Np:\n",
    "            #--Fill  Procedure\n",
    "            up = np.sqrt(np.random.random())\n",
    "            upsi = np.random.random()\n",
    "            psi = 2*pi*upsi\n",
    "            xpos = np.sqrt(emittance)*up*w*cos(psi)\n",
    "            xprime_pos = np.sqrt(emittance)*up*sin(psi)/w + np.sqrt(emittance)*up*wp*cos(psi)\n",
    "\n",
    "            x.append(xpos)\n",
    "            xprime.append(xprime_pos)\n",
    "            count +=1\n",
    "        \n",
    "    #--Turn x and xprime into np arrays \n",
    "    x = np.array(x)\n",
    "    xprime = np.array(xprime)\n",
    "\n",
    "    return x, xprime"
   ]
  },
  {
   "cell_type": "markdown",
   "metadata": {},
   "source": [
    "## Procedure to advance particles through lattice"
   ]
  },
  {
   "cell_type": "code",
   "execution_count": 8,
   "metadata": {},
   "outputs": [],
   "source": [
    "#-Create FODO Matrices\n",
    "M0 = np.array( [[1.,d/2.],[0,1.]] )      # drift matrix\n",
    "Mf = np.array( [[1.,0],[-1./f,1.]] )     # focus matrix\n",
    "Md = np.array( [[1.,0],[ 1./f,1.]] )     # defocus matrix\n",
    "def advance(x, xprime, Matrix): #advance particles \n",
    "    x_new = []\n",
    "    xprime_new = []\n",
    "\n",
    "    #The create_particles gives two arrays of intitial particle coordinates. For each particle, take the \n",
    "    #x and x' coordintates and advance through the FODO element Matrix. Then, append the new coordinates to x_new\n",
    "    #and xprime_new and update x and xprime at the end. \n",
    "    for i in range(len(x)):\n",
    "        a = x[i] #a and b aid in creating vec\n",
    "        b = xprime[i]\n",
    "        vec = np.array([[a], [b]])\n",
    "        \n",
    "        #advance particle\n",
    "        vec = Matrix@vec \n",
    "        #append new coordinates\n",
    "        \n",
    "        x_new.append(vec[0][0]) #append new \n",
    "        xprime_new.append(vec[1][0])\n",
    "    \n",
    "    #update original x and xprime\n",
    "    x, xprime = np.array(x_new), np.array(xprime_new)\n",
    "    return x, xprime\n"
   ]
  },
  {
   "cell_type": "markdown",
   "metadata": {},
   "source": [
    "## Ellipse Plot Routine\n"
   ]
  },
  {
   "cell_type": "code",
   "execution_count": 9,
   "metadata": {},
   "outputs": [],
   "source": [
    "def ellipse_plot(x, xprime, s, Lp, labels = False):\n",
    "            \n",
    "    fig, ax = plt.subplots(figsize=(7,7))\n",
    "    ax.scatter(x/mm, xprime/mrad, s = 0.5)\n",
    "    ax.axhline(y=0, lw=.5, c='k')\n",
    "    ax.axvline(x=0, lw=.5, c='k')\n",
    "    ax.set_title(r\"$x$-$x'$ Phase-Space at Periods, $s/L_p =$ %g\" %(s/Lp), fontsize = 18)\n",
    "    ax.set_xlabel(r'$x$[mm]', fontsize = 18)\n",
    "    ax.set_ylabel(r\"x'[mrad]\", fontsize = 18)\n",
    "\n",
    "    \n",
    "    #--Label max x and x'\n",
    "    if labels == True:\n",
    "        #--Major axis coordinates\n",
    "        x_axis_coords = []\n",
    "        for k in range(len(x)):\n",
    "            if x[k] == max(x):\n",
    "                x_axis_coords.append(x[k])\n",
    "                x_axis_coords.append(xprime[k])\n",
    "            else:\n",
    "                continue\n",
    "\n",
    "        xp_axis_coords = []\n",
    "        for k in range(len(xprime)):\n",
    "            if xprime[k] == max(xprime):\n",
    "                xp_axis_coords.append(x[k])\n",
    "                xp_axis_coords.append(xprime[k])\n",
    "            else:\n",
    "                continue\n",
    "                \n",
    "        x_axis_coords = np.array(x_axis_coords)\n",
    "        xp_axis_coords = np.array(xp_axis_coords)\n",
    "        \n",
    "        #--Plot x-max point and xp-max point\n",
    "        xmax = x_axis_coords[0]\n",
    "        xpmax = xp_axis_coords[1]\n",
    "        ax.axvline(x = xmax/mm, c = 'b', ls = '--', lw = .75) # x max line\n",
    "        ax.axhline(y = xpmax/mrad, c = 'b', ls = '--', lw = .75) # xp max line\n",
    "        \n",
    "        #--label x max\n",
    "        x_annote = \"$x_{max}$ = %1.3f\" %(x_axis_coords[0]/mm)\n",
    "        ax.annotate(x_annote, (xmax/mm, x_axis_coords[1]/mrad))\n",
    "\n",
    "        #--label x' max\n",
    "        xp_annote = \"$x'_{max} =$ %1.3f\" %(xpmax/mm)\n",
    "        ax.annotate(xp_annote, (xp_axis_coords[0]/mm, xpmax/mrad))\n",
    "        \n",
    "    else:\n",
    "        pass\n",
    "        \n",
    "        \n",
    "    return True"
   ]
  },
  {
   "cell_type": "code",
   "execution_count": null,
   "metadata": {},
   "outputs": [],
   "source": []
  },
  {
   "cell_type": "markdown",
   "metadata": {},
   "source": [
    "## Main procedure to advance particles "
   ]
  },
  {
   "cell_type": "code",
   "execution_count": 10,
   "metadata": {
    "scrolled": false
   },
   "outputs": [
    {
     "name": "stdout",
     "output_type": "stream",
     "text": [
      "Courant-Snyder Ellipse Parameters of Load:\n",
      "\n",
      "emittance = 10.000000 mm-mrad\n",
      "\n",
      "alpha = -1.074570\n",
      "beta  = 4.041452 m\n",
      "gamma = 0.533150 m^-1\n",
      "\n",
      "w  = 2.010336 m^(1/2)\n",
      "w' = 0.534522 m^(-1/2)\n"
     ]
    },
    {
     "data": {
      "text/plain": [
       "True"
      ]
     },
     "execution_count": 10,
     "metadata": {},
     "output_type": "execute_result"
    },
    {
     "data": {
      "image/png": "[encoded data removed]",
      "text/plain": [
       "<Figure size 504x504 with 1 Axes>"
      ]
     },
     "metadata": {
      "needs_background": "light"
     },
     "output_type": "display_data"
    },
    {
     "data": {
      "image/png": "[encoded data removed]",
      "text/plain": [
       "<Figure size 576x576 with 3 Axes>"
      ]
     },
     "metadata": {
      "needs_background": "light"
     },
     "output_type": "display_data"
    },
    {
     "data": {
      "image/png": "[encoded data removed]",
      "text/plain": [
       "<Figure size 504x504 with 1 Axes>"
      ]
     },
     "metadata": {
      "needs_background": "light"
     },
     "output_type": "display_data"
    }
   ],
   "source": [
    "# Create particles\n",
    "x, xprime = create_particles(d, f, sigma_0, gamma, alpha, beta, emittance, Np, fill, match)\n",
    "ellipse_plot(x, xprime, 0, Lp, labels = True)\n",
    "#RMS Forumal for array x\n",
    "rms = lambda x: np.sqrt(np.sum(x**2)/len(x))\n",
    "# Advance particles \n",
    "x_history = [x]\n",
    "\n",
    "s_history = [0]\n",
    "x_sigma_list = [rms(x)] #Append sqrt(sum(xi**2)) at each step\n",
    "s = 0\n",
    "lattice_advances = 0\n",
    "while lattice_advances < n_advance:\n",
    "    #Pass through half-drift\n",
    "    x, xprime = advance(x,xprime, M0)\n",
    "    x_history.append(x)\n",
    "    s += d/2.\n",
    "    s_history.append(s)\n",
    "    x_sigma_list.append(rms(x))\n",
    "    \n",
    "    #Pass through focus\n",
    "    x, xprime = advance(x, xprime, Mf)\n",
    "    x_history.append(x)\n",
    "    s += 0\n",
    "    s_history.append(s)\n",
    "    x_sigma_list.append(rms(x))\n",
    "\n",
    "    \n",
    "    #Pass through two half-drifts \n",
    "    x, xprime = advance(x,xprime, M0)\n",
    "    x_history.append(x)\n",
    "    s += d/2.\n",
    "    s_history.append(s)\n",
    "    x_sigma_list.append(rms(x))\n",
    "\n",
    "    x, xprime = advance(x,xprime, M0)\n",
    "    x_history.append(x)\n",
    "    s += d/2.\n",
    "    s_history.append(s)\n",
    "    x_sigma_list.append(rms(x))\n",
    "\n",
    "    #Pass through defocus\n",
    "    x, xprime = advance(x, xprime, Md)\n",
    "    x_history.append(x)\n",
    "    s += 0\n",
    "    s_history.append(s)\n",
    "    x_sigma_list.append(rms(x))\n",
    "\n",
    "\n",
    "    #Pass through half-drift\n",
    "    x, xprime = advance(x,xprime, M0)\n",
    "    x_history.append(x)\n",
    "    s += d/2.\n",
    "    s_history.append(s)\n",
    "    x_sigma_list.append(rms(x))\n",
    "    \n",
    "    lattice_advances += 1\n",
    "    \n",
    "    \n",
    "x_history = np.array(x_history)\n",
    "s_history = np.array(s_history)\n",
    "x_sigma_list = np.array(x_sigma_list)\n",
    "\n",
    "#--Plot x and x' trajectories vs lattice periods \n",
    "fig, axes = plt.subplots(nrows = 2, ncols = 1, figsize = (8,8), sharex = True)\n",
    "ax_pos = axes[0]\n",
    "ax_sigmax = axes[1]\n",
    "\n",
    "\n",
    "\n",
    "ax_pos.plot(s_history/Lp, x_history/mm, c = 'k', lw = .5)\n",
    "ax_pos.set_title(r\"$x$-$x'$ Phase-Space Evolution, %g FODO Cells\" %n_advance, fontsize = 16)\n",
    "ax_pos.set_ylabel(r'Position, $x$ [mm]', fontsize = 14)\n",
    "\n",
    "ax_sigmax.plot(s_history/Lp, x_sigma_list/mm, c = 'k', lw = .9)\n",
    "ax_sigmax.set_title(r\"RMS Evolution, %g FODO Cells\" %n_advance, fontsize = 16)\n",
    "ax_sigmax.set_ylabel(r\"$\\sigma_x$ [mm]\")\n",
    "\n",
    "#--Plot final ellipse\n",
    "ellipse_plot(x,xprime,s,Lp, labels = True)"
   ]
  },
  {
   "cell_type": "code",
   "execution_count": 11,
   "metadata": {},
   "outputs": [
    {
     "data": {
      "text/plain": [
       "7"
      ]
     },
     "execution_count": 11,
     "metadata": {},
     "output_type": "execute_result"
    }
   ],
   "source": [
    "len(s_history)\n",
    "len(x_sigma_list)"
   ]
  },
  {
   "cell_type": "code",
   "execution_count": 12,
   "metadata": {},
   "outputs": [
    {
     "data": {
      "text/plain": [
       "4.347675886577208"
      ]
     },
     "execution_count": 12,
     "metadata": {},
     "output_type": "execute_result"
    }
   ],
   "source": [
    "np.sqrt(sum(x**2/len(x)))/mm"
   ]
  },
  {
   "cell_type": "code",
   "execution_count": 13,
   "metadata": {},
   "outputs": [
    {
     "data": {
      "text/plain": [
       "4.347675886577208"
      ]
     },
     "execution_count": 13,
     "metadata": {},
     "output_type": "execute_result"
    }
   ],
   "source": [
    "np.sqrt(sum(x**2/len(x)))/mm"
   ]
  },
  {
   "cell_type": "code",
   "execution_count": 14,
   "metadata": {},
   "outputs": [
    {
     "data": {
      "text/plain": [
       "5.798164305770166"
      ]
     },
     "execution_count": 14,
     "metadata": {},
     "output_type": "execute_result"
    }
   ],
   "source": [
    "max(x_sigma_list)/mm"
   ]
  },
  {
   "cell_type": "code",
   "execution_count": 15,
   "metadata": {},
   "outputs": [
    {
     "data": {
      "text/plain": [
       "3.265425287361456"
      ]
     },
     "execution_count": 15,
     "metadata": {},
     "output_type": "execute_result"
    }
   ],
   "source": [
    "min(x_sigma_list)/mm"
   ]
  },
  {
   "cell_type": "code",
   "execution_count": 16,
   "metadata": {},
   "outputs": [
    {
     "data": {
      "text/plain": [
       "2.5327390184087104"
      ]
     },
     "execution_count": 16,
     "metadata": {},
     "output_type": "execute_result"
    }
   ],
   "source": [
    "max(x_sigma_list)/mm - min(x_sigma_list)/mm"
   ]
  },
  {
   "cell_type": "code",
   "execution_count": 17,
   "metadata": {},
   "outputs": [
    {
     "data": {
      "text/plain": [
       "5.798164305770166"
      ]
     },
     "execution_count": 17,
     "metadata": {},
     "output_type": "execute_result"
    }
   ],
   "source": [
    "x_sigma_list.max()/mm"
   ]
  },
  {
   "cell_type": "code",
   "execution_count": 18,
   "metadata": {},
   "outputs": [
    {
     "data": {
      "text/plain": [
       "array([ 0.00273746,  0.00608199,  0.00102142, -0.00545072, -0.00439015])"
      ]
     },
     "execution_count": 18,
     "metadata": {},
     "output_type": "execute_result"
    }
   ],
   "source": [
    "x"
   ]
  },
  {
   "cell_type": "code",
   "execution_count": 19,
   "metadata": {},
   "outputs": [
    {
     "data": {
      "text/plain": [
       "array([[ 0.00635724,  0.0019645 , -0.00514312, -0.00514312,  0.0019645 ],\n",
       "       [ 0.00804755,  0.00398285, -0.00558601, -0.0074352 ,  0.00099081],\n",
       "       [ 0.00804755,  0.00398285, -0.00558601, -0.0074352 ,  0.00099081],\n",
       "       [ 0.00571408,  0.00400978, -0.0032359 , -0.00600968, -0.00047828],\n",
       "       [ 0.00338062,  0.00403671, -0.00088579, -0.00458416, -0.00194737],\n",
       "       [ 0.00338062,  0.00403671, -0.00088579, -0.00458416, -0.00194737],\n",
       "       [ 0.00273746,  0.00608199,  0.00102142, -0.00545072, -0.00439015]])"
      ]
     },
     "execution_count": 19,
     "metadata": {},
     "output_type": "execute_result"
    }
   ],
   "source": [
    "x_history"
   ]
  },
  {
   "cell_type": "code",
   "execution_count": 20,
   "metadata": {},
   "outputs": [
    {
     "data": {
      "text/plain": [
       "array([0.00449525, 0.00579816, 0.00579816, 0.00437139, 0.00326543,\n",
       "       0.00326543, 0.00434768])"
      ]
     },
     "execution_count": 20,
     "metadata": {},
     "output_type": "execute_result"
    }
   ],
   "source": [
    "x_sigma_list"
   ]
  },
  {
   "cell_type": "code",
   "execution_count": 21,
   "metadata": {},
   "outputs": [
    {
     "data": {
      "text/plain": [
       "array([ 0.00273746,  0.00608199,  0.00102142, -0.00545072, -0.00439015])"
      ]
     },
     "execution_count": 21,
     "metadata": {},
     "output_type": "execute_result"
    }
   ],
   "source": [
    "x"
   ]
  },
  {
   "cell_type": "code",
   "execution_count": 22,
   "metadata": {},
   "outputs": [
    {
     "data": {
      "text/plain": [
       "array([7.49368210e-06, 3.69906512e-05, 1.04329874e-06, 2.97103677e-05,\n",
       "       1.92734282e-05])"
      ]
     },
     "execution_count": 22,
     "metadata": {},
     "output_type": "execute_result"
    }
   ],
   "source": [
    "x**2"
   ]
  },
  {
   "cell_type": "code",
   "execution_count": 23,
   "metadata": {},
   "outputs": [
    {
     "data": {
      "text/plain": [
       "9.451142807362457e-05"
      ]
     },
     "execution_count": 23,
     "metadata": {},
     "output_type": "execute_result"
    }
   ],
   "source": [
    "sum(x**2)"
   ]
  },
  {
   "cell_type": "code",
   "execution_count": 24,
   "metadata": {},
   "outputs": [
    {
     "data": {
      "text/plain": [
       "1.8902285614724914e-05"
      ]
     },
     "execution_count": 24,
     "metadata": {},
     "output_type": "execute_result"
    }
   ],
   "source": [
    "sum(x**2)/len(x)"
   ]
  },
  {
   "cell_type": "code",
   "execution_count": 25,
   "metadata": {},
   "outputs": [
    {
     "data": {
      "text/plain": [
       "4.347675886577208"
      ]
     },
     "execution_count": 25,
     "metadata": {},
     "output_type": "execute_result"
    }
   ],
   "source": [
    "np.sqrt(sum(x**2)/len(x))/mm"
   ]
  },
  {
   "cell_type": "code",
   "execution_count": null,
   "metadata": {},
   "outputs": [],
   "source": []
  }
 ],
 "metadata": {
  "kernelspec": {
   "display_name": "Python 3",
   "language": "python",
   "name": "python3"
  },
  "language_info": {
   "codemirror_mode": {
    "name": "ipython",
    "version": 3
   },
   "file_extension": ".py",
   "mimetype": "text/x-python",
   "name": "python",
   "nbconvert_exporter": "python",
   "pygments_lexer": "ipython3",
   "version": "3.7.3"
  }
 },
 "nbformat": 4,
 "nbformat_minor": 2
}
