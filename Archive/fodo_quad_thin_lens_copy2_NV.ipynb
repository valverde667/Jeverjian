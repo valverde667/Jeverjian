{
 "cells": [
  {
   "cell_type": "markdown",
   "metadata": {},
   "source": [
    "# Modeling Quadrupole Transport of Charged Particle Beams with Python\n",
    "Created by Emily Jevarjian, Nick Valverde, and Steve Lund \n",
    "\n",
    "\n",
    "The purpose of this code is model the phase space evolution of a beam of charged particles transported in a magnetic FODO quadrupole focusing lattice. The focusing is alternating gradient. This program describes the quadrupoles simply as \"thin lens\" kicks and uses linear transfer matrices to model the charged particle beam's transport. Approximate, corresponding thick (physical) quadrupole parameters are output for laboratory implementation.\n",
    "\n",
    "User inputs are specified to set desired charged particle beam and applied focusing lattice parameters. Options can be set to model a single particle or a bundle of particles. Output plots generated help visualize the the phase-space evolution of the beam.  Plots include x and x' orbit bundles and x-x' phase-space projections made each lattice period at the same location.     \n",
    "\n",
    "The program employs Python packages numpy and math to make calculations and uses matplotlib graphics to plot the phase space evolution of the beam."
   ]
  },
  {
   "cell_type": "markdown",
   "metadata": {},
   "source": [
    "# Load Python Packages "
   ]
  },
  {
   "cell_type": "code",
   "execution_count": 1,
   "metadata": {},
   "outputs": [],
   "source": [
    "import numpy as np\n",
    "from numpy import cos, sin, pi\n",
    "import math\n",
    "import matplotlib.pyplot as plt\n",
    "%matplotlib inline"
   ]
  },
  {
   "cell_type": "markdown",
   "metadata": {},
   "source": [
    "# Define Constants"
   ]
  },
  {
   "cell_type": "code",
   "execution_count": 2,
   "metadata": {},
   "outputs": [],
   "source": [
    "# Constants\n",
    "\n",
    "c_light  = 2.99792458e8    # speed of light [m/s]\n",
    "e_charge = 1.60217662e-19  # electronic charge [C]\n",
    "amu      = 1.660538921e-27 # atomic mass unit [kg]\n",
    "jperev   = e_charge        # conversion factor Joules/eV\n",
    "mm       = 1.e-3           # conversion factor mm to meters \n",
    "mrad     = 1.e-3           # conversion factor mrad to rad "
   ]
  },
  {
   "cell_type": "markdown",
   "metadata": {},
   "source": [
    "# Charged Particle Inputs\n",
    "* Q:  particle charge state\n",
    "    * Q = -1 for an electron\n",
    "    * Q = a positive integer for an ion\n",
    "* M:  particle mass in atomic mass units [amu]\n",
    "* E:  axial kinetic energy [eV]"
   ]
  },
  {
   "cell_type": "code",
   "execution_count": 3,
   "metadata": {},
   "outputs": [
    {
     "name": "stdout",
     "output_type": "stream",
     "text": [
      "q = 1.60217662e-19 C\n",
      "Mass = 1.672621782642489e-27 kg\n"
     ]
    }
   ],
   "source": [
    "# Charged particle inputs\n",
    "Q  = 1           # particle charge state [1]\n",
    "M  = 1.00727647  # particle mass [amu]\n",
    "E  = 100.e3      #axial kinetic energy [eV]\n",
    "\n",
    "# Derived parameters \n",
    "q = Q*e_charge \n",
    "m = M*amu \n",
    "\n",
    "energy   = jperev*E                    # Kinetic energy [J]\n",
    "gamma_b  = 1. + energy/(m*c_light**2)  # relativistic axial gamma [1]\n",
    "beta_b   = np.sqrt(1.-1./gamma_b**2)   # relativistic axial beta v_z/c [1]\n",
    "p_z      = m*gamma_b*beta_b*c_light    # particle axial momentum [kg*m/s]\n",
    "rigidity = p_z/q                       # particle rigidity [T*m]\n",
    "\n",
    "print(\"q = {} C\" .format(q))\n",
    "print(\"Mass = {} kg\" .format(m))"
   ]
  },
  {
   "cell_type": "markdown",
   "metadata": {},
   "source": [
    "## Beam Distribution Inputs"
   ]
  },
  {
   "cell_type": "code",
   "execution_count": 4,
   "metadata": {},
   "outputs": [],
   "source": [
    "# # Beam distribution inputs\n",
    "# Np        = 1    #number of particles [1] must be positive integer \n",
    "# emit = 1.  # emittance [mm*mrad]\n",
    "\n",
    "# beta  = 1.       # betatron ellipse coefficient beta [m]\n",
    "# alpha = pi/4. # betatron ellipse coefficient alpha [rad]\n",
    "\n",
    "# fill  = False   # False = Particles on perimeter ellipse, True = Particles uniformly fill ellipse \n",
    "# match = False   # False = Use beta, alpha above to set, True = Reset beta, alpha as matched beam ellipse values\n",
    "\n",
    "# # Derived distrubtion parameters \n",
    "# gamma = (1+alpha**2)/beta # betatron ellipse coefficient gamma [1/m]\n",
    "\n",
    "# emittance  = emit*mm*mrad # emittance in [meter*rad] units \n",
    "\n",
    "# w  = beta**0.5  # alternative betatron ellipse parameter w [m^0.5]\n",
    "# wp = -alpha/w   # alternative betatron ellipse parameter wp = w' [m^-0.5]\n",
    "\n",
    "# print(\"gamma = {} 1/m\" .format(gamma))\n",
    "# print(\"beta = {} m\" .format(beta))\n",
    "# print(\"alpha = {} rad\" .format(alpha))\n",
    "# print(\"w = {} m^0.5\" .format(w))\n",
    "# print(\"w' = {} m^-0.5\" .format(wp))"
   ]
  },
  {
   "cell_type": "markdown",
   "metadata": {},
   "source": [
    "## FODO Lattice Inputs"
   ]
  },
  {
   "cell_type": "code",
   "execution_count": 5,
   "metadata": {},
   "outputs": [
    {
     "name": "stdout",
     "output_type": "stream",
     "text": [
      "Focal Length = 2.0 m\n",
      "G = 0.04569516484432219\n"
     ]
    }
   ],
   "source": [
    "Np = 1   #Number of particles\n",
    "emittance = 1.*mm*mrad\n",
    "sigma_0 = pi/3 #phase angle. This angle gives a f = 4 to match single particle thin lens code.\n",
    "d = 2.         #[m] full drift length\n",
    "Lp = 2*d       #[m]  lattice length\n",
    "\n",
    "#--Calculate focal length f through stability criterion\n",
    "f = (d/2)*np.sqrt(2/(1-cos(sigma_0))) #focal length\n",
    "\n",
    "ell     = 0.5 # Physical (thick) quadrupole axial length [m]  (information only for lab lattice output)\n",
    "\n",
    "kappa = 1./(f*ell)           # Physical (thick) quadrupole kappa [1/m^2]\n",
    "G     = rigidity/(f*ell)     # Physical (thick) quadrupole field gradient [Tesla/m]\n",
    "\n",
    "print(\"Focal Length = {} m\" .format(f))\n",
    "print(\"G = {}\" .format(G))"
   ]
  },
  {
   "cell_type": "markdown",
   "metadata": {},
   "source": [
    "## Procedure for creating matched distriubtion of particles"
   ]
  },
  {
   "cell_type": "code",
   "execution_count": 6,
   "metadata": {},
   "outputs": [],
   "source": [
    "#--Functions to calcluate Twiss parameters with inputs drift (d), focal length (f), and initial phase-angle (sigma_0).\n",
    "def alpha_func(d,f, sigma_0):\n",
    "    numerator = -d/f\n",
    "    denominator = np.sqrt(sin(sigma_0))\n",
    "    return numerator/denominator\n",
    "\n",
    "def beta_func(d, f, sigma_0):\n",
    "    numerator = 2*d - d**3/(4*f**2)\n",
    "    denominator = sin(sigma_0)\n",
    "    return numerator/denominator\n",
    "\n",
    "def gamma_func(d, f, sigma_0):\n",
    "    numerator = sin(sigma_0) + d**2/f**2\n",
    "    denominator = 2*d - d**3/(4*f**2)\n",
    "    return numerator/denominator\n",
    "\n",
    "\n",
    "\n",
    "\n",
    "def create_particles (d, f, sigma_0, emittance, Np, fill = False, match = True):\n",
    "    '''\n",
    "    Create distribution of initial x,x' coordinates for n particles in specified Courant-Snyder \n",
    "    phase-space ellipse given by \n",
    "       gamma*x^2 + 2*alpha*x*x' + beta*(x')^2 = emit\n",
    "    Filled = False => distribute n particles around perimeter \n",
    "           = True  => uniformly fill n particles within ellipse \n",
    "    Note: This routine has no knowledge of whether the ellipse parameters gamma, alpha, beta, emit \n",
    "    correspond to a matched beam or not. \n",
    "    '''\n",
    "    \n",
    "    #--Initialze x and x' arrays to be populated\n",
    "    x = []\n",
    "    xprime = []\n",
    "    count = 0 #Counter for while loops\n",
    "\n",
    "    #--Check Match condition\n",
    "    if match == True:\n",
    "        #--Calculate twiss parameters along with w and w'\n",
    "        alpha, betta, gamma = alpha_func(d, f, sigma_0), beta_func(d, f, sigma_0), gamma_func(d, f, sigma_0)\n",
    "        #--Calculate w\n",
    "        numerator = np.sqrt(2.*d - d**3/(4.*f**2))\n",
    "        denom = np.sqrt(sin(sigma_0))\n",
    "        w = numerator/denom\n",
    "        #--Calculate w'\n",
    "        numerator = d/f\n",
    "        denom = np.sqrt(2.*d - d**3/(4.*f**2))\n",
    "        wp = numerator/denom\n",
    "        #--Use derived w and w' to evaluate x and x'\n",
    "        if fill == False: # Perimeter load\n",
    "             while count < Np:\n",
    "                theta = 2*pi*count/Np\n",
    "                xpos = np.sqrt(emittance)*w*cos(theta)\n",
    "                xprime_pos = np.sqrt(emittance)*sin(theta)/w + np.sqrt(emittance)*wp*cos(theta)\n",
    "\n",
    "                x.append(xpos)\n",
    "                xprime.append(xprime_pos)\n",
    "                count += 1\n",
    "        else: # Uniform load\n",
    "            while count < Np:\n",
    "             #--Fill  Procedure\n",
    "                up = np.random.random()\n",
    "                upsi = np.random.random()\n",
    "                psi = 2*pi*upsi\n",
    "                xpos = np.sqrt(emittance*np.sqrt(up))*w*cos(psi)\n",
    "                xprime_pos = np.sqrt(emittance*np.sqrt(up))*sin(psi)/w + np.sqrt(emittance*np.sqrt(up))*wp*cos(psi)\n",
    "\n",
    "                x.append(xpos)\n",
    "                xprime.append(xprime_pos)\n",
    "                count +=1\n",
    "        #--Output twiss parameters\n",
    "        print(\"alpha = %f\" %alpha)\n",
    "        print(\"betta = %f[m]\" %betta)\n",
    "        print(\"gamma = %f\" %gamma)\n",
    "        print(\"w = %f\" %w)\n",
    "        print(\"w' = %f\" %wp)\n",
    "\n",
    "\n",
    "    #--If matched conditions is not desired use random number generator\n",
    "    else: \n",
    "        while count < Np: #loop until the x and x' list have the desired number of particles\n",
    "            x.append(np.random.uniform(-1e-3,1e-3)) #mm\n",
    "            xprime.append(np.random.uniform(-1e-3,1e-3)) #mm/s\n",
    "            count += 1\n",
    "   \n",
    "    #--Turn x and xprime into np arrays \n",
    "    x = np.array(x)\n",
    "    xprime = np.array(xprime)\n",
    "\n",
    "\n",
    "    return x, xprime"
   ]
  },
  {
   "cell_type": "code",
   "execution_count": 7,
   "metadata": {
    "scrolled": true
   },
   "outputs": [
    {
     "name": "stdout",
     "output_type": "stream",
     "text": [
      "alpha = -1.074570\n",
      "betta = 4.041452[m]\n",
      "gamma = 0.533150\n",
      "w = 2.010336\n",
      "w' = 0.534522\n"
     ]
    }
   ],
   "source": [
    "x, xprime = create_particles(d, f, sigma_0, emittance, Np, fill = False, match = True)"
   ]
  },
  {
   "cell_type": "code",
   "execution_count": 8,
   "metadata": {},
   "outputs": [],
   "source": [
    "xtest, xptest = x[0], xprime[0]\n",
    "alpha = -.537285\n",
    "betta = 4.474465\n",
    "gamma = 0.288007\n",
    "wtest = 2.115293\n",
    "wptest = 0.254000"
   ]
  },
  {
   "cell_type": "code",
   "execution_count": 9,
   "metadata": {},
   "outputs": [],
   "source": [
    "test1_emit = gamma*xtest**2 + 2*alpha*xtest*xptest + betta*xptest**2\n",
    "test2_emit = (xtest/wtest)**2 + (wptest*xptest - wptest*xtest)**2"
   ]
  },
  {
   "cell_type": "code",
   "execution_count": 10,
   "metadata": {},
   "outputs": [],
   "source": [
    "first_test = 100*(abs(emittance - test1_emit)/emittance)\n",
    "second_test = 100*(abs(emittance - test2_emit)/emittance)"
   ]
  },
  {
   "cell_type": "code",
   "execution_count": 11,
   "metadata": {},
   "outputs": [
    {
     "name": "stdout",
     "output_type": "stream",
     "text": [
      "28.76843926384244\n",
      "4.3743373914632535\n"
     ]
    }
   ],
   "source": [
    "print(first_test)\n",
    "print(second_test)"
   ]
  },
  {
   "cell_type": "markdown",
   "metadata": {
    "scrolled": true
   },
   "source": [
    "## Procedure to advance particles through lattice"
   ]
  },
  {
   "cell_type": "code",
   "execution_count": 12,
   "metadata": {},
   "outputs": [],
   "source": [
    "#-Create FODO Matrices\n",
    "M0 = np.array( [[1.,d/2.],[0,1.]] )      # drift matrix\n",
    "Mf = np.array( [[1.,0],[-1./f,1.]] )     # focus matrix\n",
    "Md = np.array( [[1.,0],[ 1./f,1.]] )     # defocus matrix\n",
    "def advance(x, xprime, Matrix): #advance particles \n",
    "    x_new = []\n",
    "    xprime_new = []\n",
    "\n",
    "    #The create_particles gives two arrays of intitial particle coordinates. For each particle, take the \n",
    "    #x and x' coordintates and advance through the FODO element Matrix. Then, append the new coordinates to x_new\n",
    "    #and xprime_new and update x and xprime at the end. \n",
    "    for i in range(len(x)):\n",
    "        a = x[i] #a and b aid in creating vec\n",
    "        b = xprime[i]\n",
    "        vec = np.array([[a], [b]])\n",
    "        \n",
    "        #advance particle\n",
    "        vec = Matrix@vec \n",
    "        #append new coordinates\n",
    "        \n",
    "        x_new.append(vec[0][0]) #append new \n",
    "        xprime_new.append(vec[1][0])\n",
    "    \n",
    "    #update original x and xprime\n",
    "    x, xprime = np.array(x_new), np.array(xprime_new)\n",
    "    return x, xprime\n"
   ]
  },
  {
   "cell_type": "markdown",
   "metadata": {},
   "source": [
    "## Ellipse Plot Routine\n"
   ]
  },
  {
   "cell_type": "code",
   "execution_count": 13,
   "metadata": {},
   "outputs": [],
   "source": [
    "def ellipse_plot(x, xprime):\n",
    "    #--Major axis coordinates\n",
    "    x_axis_coords = []\n",
    "    for k in range(len(x)):\n",
    "        if x[k] == max(x):\n",
    "            x_axis_coords.append(x[k])\n",
    "            x_axis_coords.append(xprime[k])\n",
    "        else:\n",
    "            continue\n",
    "            \n",
    "    xp_axis_coords = []\n",
    "    for k in range(len(xprime)):\n",
    "        if xprime[k] == max(xprime):\n",
    "            xp_axis_coords.append(x[k])\n",
    "            xp_axis_coords.append(xprime[k])\n",
    "        else:\n",
    "            continue\n",
    "    \n",
    "            \n",
    "    fig, ax = plt.subplots(figsize=(7,7))\n",
    "    ax.scatter(x/mm, xprime/mm, s = 0.5)\n",
    "    ax.axhline(y=0, lw=.5, c='k')\n",
    "    ax.axvline(x=0, lw=.5, c='k')\n",
    "    ax.set_title(r\"d = %g[m], f = %g[m], $\\sigma_0 = $%g[rad] \" %(d, f, sigma_0), fontsize = 18)\n",
    "    ax.set_xlabel(r'$x$[mm]', fontsize = 18)\n",
    "    ax.set_ylabel(r\"x'[mrad]\", fontsize = 18)\n",
    "    \n",
    "    #ax.plot([2,2], [0,.4], lw=.75) #[x1, x2], [y1, y2]\n",
    "    \n",
    "    x_axis_coords = np.array(x_axis_coords)\n",
    "    xp_axis_coords = np.array(xp_axis_coords)\n",
    "    \n",
    "    #--Add major axis\n",
    "    x1,x2, y1, y2 = 0, x_axis_coords[0]/mm, 0, x_axis_coords[1]/mm\n",
    "    ax.plot([x1,x2], [y1,y2], c = 'k', lw = .75) # x-axis \n",
    "    x_annote = \"xmax = %1.3f\" %(x_axis_coords[0]/mm)\n",
    "    ax.annotate(x_annote, x_axis_coords/mm)\n",
    "\n",
    "    #--Add minor axis\n",
    "    x1,x2, y1, y2 = 0, xp_axis_coords[0]/mm, 0, xp_axis_coords[1]/mm\n",
    "    ax.plot([x1,x2], [y1,y2], c = 'k', lw = .75) # x-axis \n",
    "    xp_annote = \"x'max = %1.3f\" %(xp_axis_coords[1]/mm)\n",
    "    ax.annotate(xp_annote, xp_axis_coords/mm)\n",
    "    return True"
   ]
  },
  {
   "cell_type": "markdown",
   "metadata": {},
   "source": [
    "## Main proedure"
   ]
  },
  {
   "cell_type": "code",
   "execution_count": 15,
   "metadata": {},
   "outputs": [
    {
     "name": "stdout",
     "output_type": "stream",
     "text": [
      "alpha = -1.074570\n",
      "betta = 4.041452[m]\n",
      "gamma = 0.533150\n",
      "w = 2.010336\n",
      "w' = 0.534522\n"
     ]
    },
    {
     "data": {
      "text/plain": [
       "True"
      ]
     },
     "execution_count": 15,
     "metadata": {},
     "output_type": "execute_result"
    },
    {
     "data": {
      "image/png": "[encoded data removed]",
      "text/plain": [
       "<Figure size 504x504 with 1 Axes>"
      ]
     },
     "metadata": {
      "needs_background": "light"
     },
     "output_type": "display_data"
    },
    {
     "data": {
      "image/png": "[encoded data removed]",
      "text/plain": [
       "<Figure size 576x576 with 2 Axes>"
      ]
     },
     "metadata": {
      "needs_background": "light"
     },
     "output_type": "display_data"
    },
    {
     "data": {
      "image/png": "[encoded data removed]",
      "text/plain": [
       "<Figure size 504x504 with 1 Axes>"
      ]
     },
     "metadata": {
      "needs_background": "light"
     },
     "output_type": "display_data"
    }
   ],
   "source": [
    "#Create particles\n",
    "x, xprime= create_particles(d, f, sigma_0, emittance, Np, fill = True, match = True)\n",
    "ellipse_plot(x, xprime)\n",
    "\n",
    "n_advance = 10\n",
    "x_history = [x]\n",
    "xp_history = [xprime]\n",
    "s_history = [0]\n",
    "s = 0\n",
    "lattice_advances = 0\n",
    "while lattice_advances < n_advance:\n",
    "    #Pass through half-drift\n",
    "    x, xprime = advance(x,xprime, M0)\n",
    "    x_history.append(x)\n",
    "    xp_history.append(xprime)\n",
    "    s += d/2.\n",
    "    s_history.append(s)\n",
    "    \n",
    "    #Pass through focus\n",
    "    x, xprime = advance(x, xprime, Mf)\n",
    "    x_history.append(x)\n",
    "    xp_history.append(xprime)\n",
    "    s += 0\n",
    "    s_history.append(s)\n",
    "\n",
    "    \n",
    "     #Pass through two half-drifts \n",
    "    x, xprime = advance(x,xprime, M0)\n",
    "    x_history.append(x)\n",
    "    xp_history.append(xprime)\n",
    "    s += d/2.\n",
    "    s_history.append(s)\n",
    "\n",
    "    x, xprime = advance(x,xprime, M0)\n",
    "    x_history.append(x)\n",
    "    xp_history.append(xprime)\n",
    "    s += d/2.\n",
    "    s_history.append(s)\n",
    "    \n",
    "    #Pass through defocus\n",
    "    x, xprime = advance(x, xprime, Md)\n",
    "    x_history.append(x)\n",
    "    xp_history.append(xprime)\n",
    "    s += 0\n",
    "    s_history.append(s)\n",
    "    \n",
    "    #Pass through half-drift\n",
    "    x, xprime = advance(x,xprime, M0)\n",
    "    x_history.append(x)\n",
    "    xp_history.append(xprime)\n",
    "    s += d/2.\n",
    "    s_history.append(s)\n",
    "    \n",
    "    lattice_advances += 1\n",
    "    \n",
    "    \n",
    "x_history = np.array(x_history)\n",
    "xp_history = np.array(xp_history)    \n",
    "s_history = np.array(s_history)\n",
    "\n",
    "#--Plot x and x' trajectories\n",
    "fig, axes = plt.subplots(nrows = 2, ncols = 1, figsize = (8,8), sharex = True)\n",
    "ax_pos = axes[0]\n",
    "ax_phase_space = axes[1]\n",
    "\n",
    "ax_pos.plot(s_history/Lp, x_history/mm, c = 'k', lw = .5)\n",
    "ax_pos.set_title(r\"$x$-$x'$ Phase-Space Evolution, %g FODO CElls\" %n_advance, fontsize = 16)\n",
    "ax_pos.set_ylabel(r'Position, $x$ [mm]', fontsize = 14)\n",
    "\n",
    "ax_phase_space.plot(s_history/Lp, xp_history/mrad, c = 'k', lw = .5)\n",
    "#ax_phase_space.set_title('Phase Space Evolution through %g FODO Cells' %n_advance)\n",
    "ax_phase_space.set_ylabel(r\"Angle, $x'$ [mrad]\", fontsize = 14)\n",
    "ax_phase_space.set_xlabel(r\"Axial Coordinate, $s/L_p$ [Lattice Periods]\", fontsize = 14)\n",
    "plt.tight_layout()\n",
    "\n",
    "#--Plot final ellipse\n",
    "ellipse_plot(x,xprime)"
   ]
  },
  {
   "cell_type": "code",
   "execution_count": null,
   "metadata": {},
   "outputs": [],
   "source": []
  },
  {
   "cell_type": "code",
   "execution_count": null,
   "metadata": {},
   "outputs": [],
   "source": []
  }
 ],
 "metadata": {
  "kernelspec": {
   "display_name": "Python 3",
   "language": "python",
   "name": "python3"
  },
  "language_info": {
   "codemirror_mode": {
    "name": "ipython",
    "version": 3
   },
   "file_extension": ".py",
   "mimetype": "text/x-python",
   "name": "python",
   "nbconvert_exporter": "python",
   "pygments_lexer": "ipython3",
   "version": "3.7.3"
  }
 },
 "nbformat": 4,
 "nbformat_minor": 2
}
